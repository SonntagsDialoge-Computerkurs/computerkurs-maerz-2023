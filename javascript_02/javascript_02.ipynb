{
 "cells": [
  {
   "cell_type": "code",
   "execution_count": 4,
   "metadata": {},
   "outputs": [],
   "source": [
    "from utils import update_and_display"
   ]
  },
  {
   "cell_type": "markdown",
   "metadata": {},
   "source": [
    "# Quiz 1: \n",
    "1. In Zeile 1 , dass alle folgenden Zeilen in der Sprache Javascript geschrieben sind. Was passiert, wenn die erste Zeile gelöscht wird und du die Zelle ausführst (SHIFT+Enter)?\n",
    "1. Was passiert in Zeile 2,3,4,5?\n",
    "1. Wie unterscheidet sich Zeile 6 von den anderen? Was wird ausgegeben?"
   ]
  },
  {
   "cell_type": "code",
   "execution_count": 5,
   "metadata": {},
   "outputs": [
    {
     "name": "stdout",
     "output_type": "stream",
     "text": [
      "5\n",
      "0.5\n",
      "64\n",
      "0\n",
      "5-5\n"
     ]
    }
   ],
   "source": [
    "%%script node\n",
    "console.log(1+4);\n",
    "console.log(8/16);\n",
    "console.log(4*16);\n",
    "console.log(5-5);\n",
    "console.log(\"5-5\");"
   ]
  },
  {
   "cell_type": "markdown",
   "metadata": {},
   "source": [
    "# Du verwendest jetzt die `typeof`-Funktion um den Unterschied von Zeile 5 und 6 zu untersuchen\n",
    "Führ bitte die unteren beiden Zellen aus:"
   ]
  },
  {
   "cell_type": "code",
   "execution_count": 6,
   "metadata": {},
   "outputs": [
    {
     "name": "stdout",
     "output_type": "stream",
     "text": [
      "number\n"
     ]
    }
   ],
   "source": [
    "%%script node\n",
    "console.log(typeof(5))"
   ]
  },
  {
   "cell_type": "code",
   "execution_count": 7,
   "metadata": {},
   "outputs": [
    {
     "name": "stdout",
     "output_type": "stream",
     "text": [
      "string\n"
     ]
    }
   ],
   "source": [
    "%%script node\n",
    "console.log(typeof(\"5\"))"
   ]
  },
  {
   "cell_type": "markdown",
   "metadata": {},
   "source": [
    "Weitere Informationen zu Strings findet ihr auch hier: https://www.w3schools.com/js/js_string_methods.asp \n",
    "\n",
    "Kannst du in eigenen Worten beschreiben was ein String ist? Was ist der Unterschied von Zahlen und Strings?"
   ]
  },
  {
   "cell_type": "markdown",
   "metadata": {},
   "source": [
    "# Variablen: Jetzt speicherst du Zahlenwerte in Variablen\n",
    "\n",
    "Diese werden mit dem Stichwort `var` definiert.\n",
    "\n",
    "Die Zeile `var preis_iphone = 800;` kannst du so lesen: \"Die Variable preis_iphone bekommt den Wert 800\""
   ]
  },
  {
   "cell_type": "code",
   "execution_count": 8,
   "metadata": {},
   "outputs": [
    {
     "name": "stdout",
     "output_type": "stream",
     "text": [
      "1250\n"
     ]
    }
   ],
   "source": [
    "%%script node\n",
    "var preis_iphone = 800;\n",
    "var preis_sonnenbrille = 450;\n",
    "\n",
    "console.log(preis_iphone + preis_sonnenbrille)"
   ]
  },
  {
   "cell_type": "markdown",
   "metadata": {},
   "source": [
    "# Aufgabe 1: Ersetzt nun alle Zahlen im unteren Code durch Variablen, sodass ihr die gleiche Ausgabe wie bei Quiz 1 bekommt\n",
    "Nenne deine Variablen `a, b, c, d, e, f`"
   ]
  },
  {
   "cell_type": "code",
   "execution_count": 9,
   "metadata": {},
   "outputs": [
    {
     "name": "stdout",
     "output_type": "stream",
     "text": [
      "5\n",
      "0.5\n",
      "64\n",
      "0\n"
     ]
    }
   ],
   "source": [
    "%%script node\n",
    "let a = 1; // Tipp!\n",
    "\n",
    "console.log(1+4);\n",
    "console.log(8/16);\n",
    "console.log(4*16);\n",
    "console.log(5-5);"
   ]
  },
  {
   "cell_type": "markdown",
   "metadata": {},
   "source": [
    "# Aufgabe 2: \n",
    "\n",
    "1. Gib 30-mal untereinander das Wort \"Hi\" mit `console.log(\"Hi\")` aus.\n",
    "2. Wenn du das geschafft hast, sag mir Bescheid, damit wir die Aufgaben besprechen können"
   ]
  },
  {
   "cell_type": "code",
   "execution_count": 10,
   "metadata": {},
   "outputs": [],
   "source": [
    "%%script node\n",
    "// Dein Code kommt hier hin"
   ]
  },
  {
   "cell_type": "markdown",
   "metadata": {},
   "source": [
    "# Schleifen / loops:\n",
    "<p style=\"background-color:gray; color:gray\">\n",
    "%%script node\n",
    "let rng = [...Array(2).keys()];   \n",
    "for (var i of rng) {\n",
    "    console.log(\"Hi\")\n",
    "}\n",
    "</p>"
   ]
  },
  {
   "cell_type": "markdown",
   "metadata": {},
   "source": [
    "# Aufgabe 3: \n",
    "\n",
    "Spiele mit Schleifen! Probiere etwas herum, was kannst du alles ändern? Wie kannst du die Ausgabe `1,2,3,4,5,6` oder die Ausgabe `1,4,9,16,25,36` erzeugen?"
   ]
  },
  {
   "cell_type": "code",
   "execution_count": 11,
   "metadata": {},
   "outputs": [],
   "source": [
    "%%script node\n",
    "// Dein Code kommt hier hin"
   ]
  },
  {
   "cell_type": "markdown",
   "metadata": {},
   "source": [
    "# Aufgabe 4: Bonus: Kombiniere loops und Boxen\n",
    "Sieh dir dieses Beispiel an. Was kannst du hier verändern? Sei kreativ und zeige mir deine Ideen!"
   ]
  },
  {
   "cell_type": "code",
   "execution_count": 12,
   "metadata": {},
   "outputs": [],
   "source": [
    "%%script node\n",
    "//cell 1\n",
    "var Matter = require('matter-js');\n",
    "var engine = Matter.Engine.create();\n",
    "var allBodies = [];\n",
    "engine.gravity.y = 0.0\n",
    "\n",
    "var rng = [...Array(10).keys()];\n",
    "\n",
    "for (var i of rng) {\n",
    "    let position_x = 50+i*20;\n",
    "    let position_y = 40;\n",
    "    let box = Matter.Bodies.rectangle(position_x, position_y, 10, 10);\n",
    "    \n",
    "    box.render.fillStyle = 'blue';\n",
    "    allBodies.push(box);\n",
    "}"
   ]
  },
  {
   "cell_type": "code",
   "execution_count": 13,
   "metadata": {},
   "outputs": [
    {
     "data": {
      "text/html": [
       "\n",
       "        <iframe\n",
       "            width=\"300\"\n",
       "            height=\"300\"\n",
       "            src=\"http://127.0.0.1:8080/\"\n",
       "            frameborder=\"0\"\n",
       "            allowfullscreen\n",
       "            \n",
       "        ></iframe>\n",
       "        "
      ],
      "text/plain": [
       "<IPython.lib.display.IFrame at 0x7f8aea35da00>"
      ]
     },
     "execution_count": 13,
     "metadata": {},
     "output_type": "execute_result"
    }
   ],
   "source": [
    "update_and_display(locals(), width=300, height=300)"
   ]
  },
  {
   "cell_type": "code",
   "execution_count": null,
   "metadata": {},
   "outputs": [],
   "source": []
  }
 ],
 "metadata": {
  "kernelspec": {
   "display_name": "Python 3 (ipykernel)",
   "language": "python",
   "name": "python3"
  },
  "language_info": {
   "codemirror_mode": {
    "name": "ipython",
    "version": 3
   },
   "file_extension": ".py",
   "mimetype": "text/x-python",
   "name": "python",
   "nbconvert_exporter": "python",
   "pygments_lexer": "ipython3",
   "version": "3.9.16"
  }
 },
 "nbformat": 4,
 "nbformat_minor": 4
}
