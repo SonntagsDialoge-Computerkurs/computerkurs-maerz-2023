{
 "cells": [
  {
   "cell_type": "code",
   "execution_count": 1,
   "metadata": {},
   "outputs": [],
   "source": [
    "from utils import update_and_display"
   ]
  },
  {
   "cell_type": "code",
   "execution_count": 2,
   "metadata": {},
   "outputs": [
    {
     "name": "stdout",
     "output_type": "stream",
     "text": [
      "hello, world!\n"
     ]
    }
   ],
   "source": [
    "%%script node\n",
    "console.log(\"hello, world!\");"
   ]
  },
  {
   "cell_type": "code",
   "execution_count": 49,
   "metadata": {
    "vscode": {
     "languageId": "javascript"
    }
   },
   "outputs": [],
   "source": [
    "%%script node\n",
    "var Matter = require('matter-js');\n",
    "var engine = Matter.Engine.create();\n",
    "\n",
    "//cell 1\n",
    "\n",
    "// Hallo Ahmed!\n",
    "\n",
    "engine.gravity.y = 0.0\n",
    "\n",
    "// Create two boxes and a ground\n",
    "var ball = Matter.Bodies.circle(60, 60, 20);\n",
    "var boxA = Matter.Bodies.rectangle(90, 90, 30, 30);\n",
    "var boxB = Matter.Bodies.rectangle(120, 120, 20, 20);\n",
    "var boxC = Matter.Bodies.rectangle(160, 160, 30, 30);\n",
    "var ground = Matter.Bodies.rectangle(150, 280, 290, 20, { isStatic: true });\n",
    "\n",
    "ball.render.fillStyle = 'magenta'\n",
    "boxA.render.fillStyle = 'purple'\n",
    "boxB.render.fillStyle = 'aquamarine'\n",
    "boxC.render.fillStyle = 'yellow'\n",
    "boxC.render.lineWidth = 3\n",
    "ground.render.fillStyle = 'cyan'\n",
    "\n",
    "allBodies = [ball, boxA, boxB, boxC, ground]"
   ]
  },
  {
   "cell_type": "code",
   "execution_count": 50,
   "metadata": {},
   "outputs": [
    {
     "data": {
      "text/html": [
       "\n",
       "        <iframe\n",
       "            width=\"300\"\n",
       "            height=\"300\"\n",
       "            src=\"http://127.0.0.1:8080/\"\n",
       "            frameborder=\"0\"\n",
       "            allowfullscreen\n",
       "            \n",
       "        ></iframe>\n",
       "        "
      ],
      "text/plain": [
       "<IPython.lib.display.IFrame at 0x7f82c13d1e50>"
      ]
     },
     "execution_count": 50,
     "metadata": {},
     "output_type": "execute_result"
    }
   ],
   "source": [
    "update_and_display(locals(), width=300, height=300)"
   ]
  },
  {
   "cell_type": "code",
   "execution_count": null,
   "metadata": {},
   "outputs": [],
   "source": []
  },
  {
   "cell_type": "code",
   "execution_count": null,
   "metadata": {},
   "outputs": [],
   "source": []
  }
 ],
 "metadata": {
  "kernelspec": {
   "display_name": "Python 3 (ipykernel)",
   "language": "python",
   "name": "python3"
  },
  "language_info": {
   "codemirror_mode": {
    "name": "ipython",
    "version": 3
   },
   "file_extension": ".py",
   "mimetype": "text/x-python",
   "name": "python",
   "nbconvert_exporter": "python",
   "pygments_lexer": "ipython3",
   "version": "3.9.16"
  }
 },
 "nbformat": 4,
 "nbformat_minor": 4
}
